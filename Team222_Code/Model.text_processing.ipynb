{
 "cells": [
  {
   "cell_type": "code",
   "metadata": {
    "cell_id": "198dad6b7f9645c7a4a68e77c8c289c1",
    "tags": [],
    "deepnote_to_be_reexecuted": false,
    "source_hash": "4c39570d",
    "execution_start": 1656954671666,
    "execution_millis": 1900,
    "deepnote_cell_type": "code",
    "deepnote_cell_height": 477
   },
   "source": "#This is the process where we import all that we may need.\n\n#general\nimport numpy as np\nimport random\nimport pickle\nimport os\nimport pandas as pd\n\n#Graphics\nimport matplotlib.pyplot as plt\nimport seaborn as sns\nimport altair as alt\n\n#Text analysis\nimport nltk\nfrom nltk import word_tokenize\nfrom sklearn.feature_extraction.text import CountVectorizer\nfrom nltk.stem import PorterStemmer, WordNetLemmatizer, LancasterStemmer\nfrom nltk.stem import PorterStemmer\nfrom sklearn.feature_extraction.text import CountVectorizer\nfrom nltk import word_tokenize\nfrom nltk.corpus import wordnet",
   "execution_count": null,
   "outputs": []
  },
  {
   "cell_type": "code",
   "metadata": {
    "cell_id": "cf0df87465de4258beeff0b48f927d57",
    "tags": [],
    "deepnote_to_be_reexecuted": false,
    "source_hash": "23d502f9",
    "execution_start": 1656954673568,
    "execution_millis": 148,
    "deepnote_cell_type": "code",
    "deepnote_cell_height": 671
   },
   "source": "#We begin importing our dataframe \nimport pandas as pd\ndf=pd.read_csv('/datasets/gdrive/DS4A - Team Project/data/all_data.csv', sep=',', encoding=\"latin-1\")\ndf",
   "execution_count": null,
   "outputs": [
    {
     "output_type": "execute_result",
     "execution_count": 2,
     "data": {
      "application/vnd.deepnote.dataframe.v3+json": {
       "column_count": 20,
       "row_count": 4323,
       "columns": [
        {
         "name": "RADICADO",
         "dtype": "float64",
         "stats": {
          "unique_count": 2722,
          "nan_count": 1601,
          "min": "20171700056812.0",
          "max": "20222000000772.0",
          "histogram": [
           {
            "bin_start": 20171700056812,
            "bin_end": 20176730051208,
            "count": 588
           },
           {
            "bin_start": 20176730051208,
            "bin_end": 20181760045604,
            "count": 631
           },
           {
            "bin_start": 20181760045604,
            "bin_end": 20186790040000,
            "count": 85
           },
           {
            "bin_start": 20186790040000,
            "bin_end": 20191820034396,
            "count": 405
           },
           {
            "bin_start": 20191820034396,
            "bin_end": 20196850028792,
            "count": 267
           },
           {
            "bin_start": 20196850028792,
            "bin_end": 20201880023188,
            "count": 128
           },
           {
            "bin_start": 20201880023188,
            "bin_end": 20206910017584,
            "count": 205
           },
           {
            "bin_start": 20206910017584,
            "bin_end": 20211940011980,
            "count": 166
           },
           {
            "bin_start": 20211940011980,
            "bin_end": 20216970006376,
            "count": 127
           },
           {
            "bin_start": 20216970006376,
            "bin_end": 20222000000772,
            "count": 120
           }
          ]
         }
        },
        {
         "name": "FECHA",
         "dtype": "object",
         "stats": {
          "unique_count": 2827,
          "nan_count": 0,
          "categories": [
           {
            "name": "2021-12-17 00:00:00.000000",
            "count": 128
           },
           {
            "name": "2022-01-21 00:00:00.000000",
            "count": 101
           },
           {
            "name": "2825 others",
            "count": 4094
           }
          ]
         }
        },
        {
         "name": "ASUNTO",
         "dtype": "object",
         "stats": {
          "unique_count": 1900,
          "nan_count": 1601,
          "categories": [
           {
            "name": "SOLICITUD VISITA SANITARIA ",
            "count": 138
           },
           {
            "name": "1899 others",
            "count": 2584
           },
           {
            "name": "Missing",
            "count": 1601
           }
          ]
         }
        },
        {
         "name": "DIRECCION",
         "dtype": "object",
         "stats": {
          "unique_count": 1772,
          "nan_count": 1601,
          "categories": [
           {
            "name": "cra 23 # 2-22 SOGAMOSO, BOYACA.",
            "count": 73
           },
           {
            "name": "1771 others",
            "count": 2649
           },
           {
            "name": "Missing",
            "count": 1601
           }
          ]
         }
        },
        {
         "name": "MUNICIPIO",
         "dtype": "object",
         "stats": {
          "unique_count": 20,
          "nan_count": 1601,
          "categories": [
           {
            "name": "SOGAMOSO",
            "count": 2273
           },
           {
            "name": "19 others",
            "count": 449
           },
           {
            "name": "Missing",
            "count": 1601
           }
          ]
         }
        },
        {
         "name": "DEPARTAMENTO",
         "dtype": "object",
         "stats": {
          "unique_count": 10,
          "nan_count": 1601,
          "categories": [
           {
            "name": "BOYACA",
            "count": 2521
           },
           {
            "name": "9 others",
            "count": 201
           },
           {
            "name": "Missing",
            "count": 1601
           }
          ]
         }
        },
        {
         "name": "PAIS",
         "dtype": "object",
         "stats": {
          "unique_count": 1,
          "nan_count": 1601,
          "categories": [
           {
            "name": "COLOMBIA",
            "count": 2722
           },
           {
            "name": "Missing",
            "count": 1601
           }
          ]
         }
        },
        {
         "name": "TEXTO PQRSDF",
         "dtype": "object",
         "stats": {
          "unique_count": 1866,
          "nan_count": 2250,
          "categories": [
           {
            "name": "desde el 24 de abril se radico orden para depacho de medicamentos , pregabalina en medica vital a la facha sin despacho",
            "count": 72
           },
           {
            "name": "1865 others",
            "count": 2001
           },
           {
            "name": "Missing",
            "count": 2250
           }
          ]
         }
        },
        {
         "name": "CANAL DE COMUNICACIÃN",
         "dtype": "object",
         "stats": {
          "unique_count": 3,
          "nan_count": 2259,
          "categories": [
           {
            "name": "PRESENCIAL",
            "count": 1226
           },
           {
            "name": "2 others",
            "count": 838
           },
           {
            "name": "Missing",
            "count": 2259
           }
          ]
         }
        },
        {
         "name": "GENERO",
         "dtype": "object",
         "stats": {
          "unique_count": 3,
          "nan_count": 3474,
          "categories": [
           {
            "name": "F",
            "count": 569
           },
           {
            "name": "2 others",
            "count": 280
           },
           {
            "name": "Missing",
            "count": 3474
           }
          ]
         }
        },
        {
         "name": "AREA O DEPENDENCIA",
         "dtype": "object",
         "stats": {
          "unique_count": 34,
          "nan_count": 2996,
          "categories": [
           {
            "name": "ASEGURAMIENTO",
            "count": 620
           },
           {
            "name": "33 others",
            "count": 707
           },
           {
            "name": "Missing",
            "count": 2996
           }
          ]
         }
        },
        {
         "name": "RESULTADO",
         "dtype": "object",
         "stats": {
          "unique_count": 1111,
          "nan_count": 3050,
          "categories": [
           {
            "name": "SOLICITUDES YA SOLUCIONADAS",
            "count": 18
           },
           {
            "name": "1110 others",
            "count": 1255
           },
           {
            "name": "Missing",
            "count": 3050
           }
          ]
         }
        },
        {
         "name": "ESTADO",
         "dtype": "object",
         "stats": {
          "unique_count": 4,
          "nan_count": 3024,
          "categories": [
           {
            "name": "FINALIZADO",
            "count": 1048
           },
           {
            "name": "3 others",
            "count": 251
           },
           {
            "name": "Missing",
            "count": 3024
           }
          ]
         }
        },
        {
         "name": "MONITOREO",
         "dtype": "object",
         "stats": {
          "unique_count": 268,
          "nan_count": 4016,
          "categories": [
           {
            "name": "En seguimiento",
            "count": 8
           },
           {
            "name": "267 others",
            "count": 299
           },
           {
            "name": "Missing",
            "count": 4016
           }
          ]
         }
        },
        {
         "name": "EAPB",
         "dtype": "object",
         "stats": {
          "unique_count": 24,
          "nan_count": 3787,
          "categories": [
           {
            "name": "NUEVA EPS",
            "count": 220
           },
           {
            "name": "23 others",
            "count": 316
           },
           {
            "name": "Missing",
            "count": 3787
           }
          ]
         }
        },
        {
         "name": "TIPO DE PQRSDF",
         "dtype": "object",
         "stats": {
          "unique_count": 3,
          "nan_count": 2997,
          "categories": [
           {
            "name": "S",
            "count": 526
           },
           {
            "name": "2 others",
            "count": 800
           },
           {
            "name": "Missing",
            "count": 2997
           }
          ]
         }
        },
        {
         "name": "EDAD",
         "dtype": "float64",
         "stats": {
          "unique_count": 3,
          "nan_count": 4319,
          "min": "33.0",
          "max": "73.0",
          "histogram": [
           {
            "bin_start": 33,
            "bin_end": 37,
            "count": 1
           },
           {
            "bin_start": 37,
            "bin_end": 41,
            "count": 0
           },
           {
            "bin_start": 41,
            "bin_end": 45,
            "count": 0
           },
           {
            "bin_start": 45,
            "bin_end": 49,
            "count": 0
           },
           {
            "bin_start": 49,
            "bin_end": 53,
            "count": 0
           },
           {
            "bin_start": 53,
            "bin_end": 57,
            "count": 0
           },
           {
            "bin_start": 57,
            "bin_end": 61,
            "count": 0
           },
           {
            "bin_start": 61,
            "bin_end": 65,
            "count": 0
           },
           {
            "bin_start": 65,
            "bin_end": 69,
            "count": 1
           },
           {
            "bin_start": 69,
            "bin_end": 73,
            "count": 2
           }
          ]
         }
        },
        {
         "name": "TIPO DE DOCUMENTO",
         "dtype": "object",
         "stats": {
          "unique_count": 4,
          "nan_count": 3645,
          "categories": [
           {
            "name": "C.C",
            "count": 558
           },
           {
            "name": "3 others",
            "count": 120
           },
           {
            "name": "Missing",
            "count": 3645
           }
          ]
         }
        },
        {
         "name": "PREFERENCIAL",
         "dtype": "object",
         "stats": {
          "unique_count": 3,
          "nan_count": 3645,
          "categories": [
           {
            "name": "Adulto",
            "count": 656
           },
           {
            "name": "2 others",
            "count": 22
           },
           {
            "name": "Missing",
            "count": 3645
           }
          ]
         }
        },
        {
         "name": "NACIONALIDAD",
         "dtype": "object",
         "stats": {
          "unique_count": 2,
          "nan_count": 3645,
          "categories": [
           {
            "name": "No migrante",
            "count": 366
           },
           {
            "name": "Migrante",
            "count": 312
           },
           {
            "name": "Missing",
            "count": 3645
           }
          ]
         }
        },
        {
         "name": "_deepnote_index_column",
         "dtype": "int64"
        }
       ],
       "rows": [
        {
         "RADICADO": 20191700062932,
         "FECHA": "2019-05-06 14:24:20.476704",
         "ASUNTO": "INFORMACION DE CAMBIO DE DIRECCION",
         "DIRECCION": "CARRERA 14 No. 13-82 ",
         "MUNICIPIO": "SOGAMOSO",
         "DEPARTAMENTO": "BOYACA",
         "PAIS": "COLOMBIA",
         "TEXTO PQRSDF": "nan",
         "CANAL DE COMUNICACIÃN": "nan",
         "GENERO": "nan",
         "AREA O DEPENDENCIA": "nan",
         "RESULTADO": "nan",
         "ESTADO": "nan",
         "MONITOREO": "nan",
         "EAPB": "nan",
         "TIPO DE PQRSDF": "nan",
         "EDAD": "nan",
         "TIPO DE DOCUMENTO": "nan",
         "PREFERENCIAL": "nan",
         "NACIONALIDAD": "nan",
         "_deepnote_index_column": 0
        },
        {
         "RADICADO": 20191700063412,
         "FECHA": "2019-05-06 16:14:32.807325",
         "ASUNTO": "DESCARGOS POR PROCESO SANCIONATORIO Y CARGOS DEL PIQUETEADERO LA RAMADA ",
         "DIRECCION": "KRA 10 A NÂ° 53-68 JUAN JOSE RONDON     ",
         "MUNICIPIO": "SOGAMOSO",
         "DEPARTAMENTO": "BOYACA",
         "PAIS": "COLOMBIA",
         "TEXTO PQRSDF": "nan",
         "CANAL DE COMUNICACIÃN": "nan",
         "GENERO": "nan",
         "AREA O DEPENDENCIA": "nan",
         "RESULTADO": "nan",
         "ESTADO": "nan",
         "MONITOREO": "nan",
         "EAPB": "nan",
         "TIPO DE PQRSDF": "nan",
         "EDAD": "nan",
         "TIPO DE DOCUMENTO": "nan",
         "PREFERENCIAL": "nan",
         "NACIONALIDAD": "nan",
         "_deepnote_index_column": 1
        },
        {
         "RADICADO": 20191700063562,
         "FECHA": "2019-05-06 17:20:00.604149",
         "ASUNTO": "PD-1149\r\nRADICADO 1039 DE 24 DE ABRIL DE 2019",
         "DIRECCION": "CALLE 15 NO. 11-79 OFICINA 302 EDIFICIO EL PINTOR PLAZA",
         "MUNICIPIO": "SOGAMOSO",
         "DEPARTAMENTO": "BOYACA",
         "PAIS": "COLOMBIA",
         "TEXTO PQRSDF": "nan",
         "CANAL DE COMUNICACIÃN": "nan",
         "GENERO": "nan",
         "AREA O DEPENDENCIA": "nan",
         "RESULTADO": "nan",
         "ESTADO": "nan",
         "MONITOREO": "nan",
         "EAPB": "nan",
         "TIPO DE PQRSDF": "nan",
         "EDAD": "nan",
         "TIPO DE DOCUMENTO": "nan",
         "PREFERENCIAL": "nan",
         "NACIONALIDAD": "nan",
         "_deepnote_index_column": 2
        },
        {
         "RADICADO": 20191700063762,
         "FECHA": "2019-05-07 10:48:55.942940",
         "ASUNTO": "TRASLADO DENUNCIA CON RADICADO INVIMA No. 20191074569",
         "DIRECCION": "CRA 10 N 64-28  ",
         "MUNICIPIO": "BOGOTA",
         "DEPARTAMENTO": "D.C.",
         "PAIS": "COLOMBIA",
         "TEXTO PQRSDF": "nan",
         "CANAL DE COMUNICACIÃN": "nan",
         "GENERO": "nan",
         "AREA O DEPENDENCIA": "nan",
         "RESULTADO": "nan",
         "ESTADO": "nan",
         "MONITOREO": "nan",
         "EAPB": "nan",
         "TIPO DE PQRSDF": "nan",
         "EDAD": "nan",
         "TIPO DE DOCUMENTO": "nan",
         "PREFERENCIAL": "nan",
         "NACIONALIDAD": "nan",
         "_deepnote_index_column": 3
        },
        {
         "RADICADO": 20191700063922,
         "FECHA": "2019-05-07 11:44:11.598638",
         "ASUNTO": "SOLICITUD INFORMACION ",
         "DIRECCION": "CARRERA 12 No. 16-31 PISO 3 ",
         "MUNICIPIO": "SOGAMOSO",
         "DEPARTAMENTO": "BOYACA",
         "PAIS": "COLOMBIA",
         "TEXTO PQRSDF": "nan",
         "CANAL DE COMUNICACIÃN": "nan",
         "GENERO": "nan",
         "AREA O DEPENDENCIA": "nan",
         "RESULTADO": "nan",
         "ESTADO": "nan",
         "MONITOREO": "nan",
         "EAPB": "nan",
         "TIPO DE PQRSDF": "nan",
         "EDAD": "nan",
         "TIPO DE DOCUMENTO": "nan",
         "PREFERENCIAL": "nan",
         "NACIONALIDAD": "nan",
         "_deepnote_index_column": 4
        },
        {
         "RADICADO": 20191700064492,
         "FECHA": "2019-05-08 11:59:56.380563",
         "ASUNTO": "PRESENTACION DE DESCARGOS ",
         "DIRECCION": "CARRERA 20A No. 13-16  ",
         "MUNICIPIO": "SOGAMOSO",
         "DEPARTAMENTO": "BOYACA",
         "PAIS": "COLOMBIA",
         "TEXTO PQRSDF": "nan",
         "CANAL DE COMUNICACIÃN": "nan",
         "GENERO": "nan",
         "AREA O DEPENDENCIA": "nan",
         "RESULTADO": "nan",
         "ESTADO": "nan",
         "MONITOREO": "nan",
         "EAPB": "nan",
         "TIPO DE PQRSDF": "nan",
         "EDAD": "nan",
         "TIPO DE DOCUMENTO": "nan",
         "PREFERENCIAL": "nan",
         "NACIONALIDAD": "nan",
         "_deepnote_index_column": 5
        },
        {
         "RADICADO": 20191700064602,
         "FECHA": "2019-05-08 15:01:00.143893",
         "ASUNTO": "SOLICITUD VISITA ",
         "DIRECCION": "CALLE  66 10-308 ",
         "MUNICIPIO": "SOGAMOSO",
         "DEPARTAMENTO": "BOYACA",
         "PAIS": "COLOMBIA",
         "TEXTO PQRSDF": "nan",
         "CANAL DE COMUNICACIÃN": "nan",
         "GENERO": "nan",
         "AREA O DEPENDENCIA": "nan",
         "RESULTADO": "nan",
         "ESTADO": "nan",
         "MONITOREO": "nan",
         "EAPB": "nan",
         "TIPO DE PQRSDF": "nan",
         "EDAD": "nan",
         "TIPO DE DOCUMENTO": "nan",
         "PREFERENCIAL": "nan",
         "NACIONALIDAD": "nan",
         "_deepnote_index_column": 6
        },
        {
         "RADICADO": 20191700066002,
         "FECHA": "2019-05-10 15:52:33.133448",
         "ASUNTO": "RESPUESTA A RADICADO No. 20191700050401 \r\nSOLICITUD APOYO EN RELACION CON EL CASO DE LA MENOR ZULY MARIAM ROSAS PEREZ",
         "DIRECCION": "CARRERA 9 No. 11-41",
         "MUNICIPIO": "SOGAMOSO",
         "DEPARTAMENTO": "BOYACA",
         "PAIS": "COLOMBIA",
         "TEXTO PQRSDF": "nan",
         "CANAL DE COMUNICACIÃN": "nan",
         "GENERO": "nan",
         "AREA O DEPENDENCIA": "nan",
         "RESULTADO": "nan",
         "ESTADO": "nan",
         "MONITOREO": "nan",
         "EAPB": "nan",
         "TIPO DE PQRSDF": "nan",
         "EDAD": "nan",
         "TIPO DE DOCUMENTO": "nan",
         "PREFERENCIAL": "nan",
         "NACIONALIDAD": "nan",
         "_deepnote_index_column": 7
        },
        {
         "RADICADO": 20191700066662,
         "FECHA": "2019-05-13 15:57:26.478432",
         "ASUNTO": "RESPUESTA A RADICADO No. 20191700048791  \r\nCITACION NOTIFICACION PERSONAL",
         "DIRECCION": "CARRERA 12 NÂ° 8-14",
         "MUNICIPIO": "SOGAMOSO",
         "DEPARTAMENTO": "BOYACA",
         "PAIS": "COLOMBIA",
         "TEXTO PQRSDF": "nan",
         "CANAL DE COMUNICACIÃN": "nan",
         "GENERO": "nan",
         "AREA O DEPENDENCIA": "nan",
         "RESULTADO": "nan",
         "ESTADO": "nan",
         "MONITOREO": "nan",
         "EAPB": "nan",
         "TIPO DE PQRSDF": "nan",
         "EDAD": "nan",
         "TIPO DE DOCUMENTO": "nan",
         "PREFERENCIAL": "nan",
         "NACIONALIDAD": "nan",
         "_deepnote_index_column": 8
        },
        {
         "RADICADO": 20191700066702,
         "FECHA": "2019-05-13 16:30:54.983745",
         "ASUNTO": "RESPUESTA A RADICADO No. 20191700048991 \r\nCITACION NOTIFICACION PERSONAL",
         "DIRECCION": "CALLE 15 NÂ° 11-79",
         "MUNICIPIO": "SOGAMOSO",
         "DEPARTAMENTO": "BOYACA",
         "PAIS": "COLOMBIA",
         "TEXTO PQRSDF": "nan",
         "CANAL DE COMUNICACIÃN": "nan",
         "GENERO": "nan",
         "AREA O DEPENDENCIA": "nan",
         "RESULTADO": "nan",
         "ESTADO": "nan",
         "MONITOREO": "nan",
         "EAPB": "nan",
         "TIPO DE PQRSDF": "nan",
         "EDAD": "nan",
         "TIPO DE DOCUMENTO": "nan",
         "PREFERENCIAL": "nan",
         "NACIONALIDAD": "nan",
         "_deepnote_index_column": 9
        }
       ]
      },
      "text/plain": "          RADICADO                       FECHA  \\\n0     2.019170e+13  2019-05-06 14:24:20.476704   \n1     2.019170e+13  2019-05-06 16:14:32.807325   \n2     2.019170e+13  2019-05-06 17:20:00.604149   \n3     2.019170e+13  2019-05-07 10:48:55.942940   \n4     2.019170e+13  2019-05-07 11:44:11.598638   \n...            ...                         ...   \n4318           NaN  2022-04-29 00:00:00.000000   \n4319           NaN  2022-04-29 00:00:00.000000   \n4320           NaN  2022-04-29 00:00:00.000000   \n4321           NaN  2022-04-29 00:00:00.000000   \n4322           NaN  2022-04-29 00:00:00.000000   \n\n                                                 ASUNTO  \\\n0                    INFORMACION DE CAMBIO DE DIRECCION   \n1     DESCARGOS POR PROCESO SANCIONATORIO Y CARGOS D...   \n2       PD-1149\\r\\nRADICADO 1039 DE 24 DE ABRIL DE 2019   \n3     TRASLADO DENUNCIA CON RADICADO INVIMA No. 2019...   \n4                                SOLICITUD INFORMACION    \n...                                                 ...   \n4318                                                NaN   \n4319                                                NaN   \n4320                                                NaN   \n4321                                                NaN   \n4322                                                NaN   \n\n                                              DIRECCION MUNICIPIO  \\\n0                                 CARRERA 14 No. 13-82   SOGAMOSO   \n1              KRA 10 A NÂ° 53-68 JUAN JOSE RONDON       SOGAMOSO   \n2     CALLE 15 NO. 11-79 OFICINA 302 EDIFICIO EL PIN...  SOGAMOSO   \n3                                      CRA 10 N 64-28      BOGOTA   \n4                          CARRERA 12 No. 16-31 PISO 3   SOGAMOSO   \n...                                                 ...       ...   \n4318                                                NaN       NaN   \n4319                                                NaN       NaN   \n4320                                                NaN       NaN   \n4321                                                NaN       NaN   \n4322                                                NaN       NaN   \n\n     DEPARTAMENTO      PAIS  \\\n0          BOYACA  COLOMBIA   \n1          BOYACA  COLOMBIA   \n2          BOYACA  COLOMBIA   \n3            D.C.  COLOMBIA   \n4          BOYACA  COLOMBIA   \n...           ...       ...   \n4318          NaN       NaN   \n4319          NaN       NaN   \n4320          NaN       NaN   \n4321          NaN       NaN   \n4322          NaN       NaN   \n\n                                           TEXTO PQRSDF  \\\n0                                                   NaN   \n1                                                   NaN   \n2                                                   NaN   \n3                                                   NaN   \n4                                                   NaN   \n...                                                 ...   \n4318  USUARIA QUE SOLICITA ASESORIA DEL DELEGADO DE ...   \n4319                                                NaN   \n4320                                                NaN   \n4321                                                NaN   \n4322                                                NaN   \n\n     CANAL DE COMUNICACIÃN GENERO AREA O DEPENDENCIA RESULTADO      ESTADO  \\\n0                       NaN    NaN                NaN       NaN         NaN   \n1                       NaN    NaN                NaN       NaN         NaN   \n2                       NaN    NaN                NaN       NaN         NaN   \n3                       NaN    NaN                NaN       NaN         NaN   \n4                       NaN    NaN                NaN       NaN         NaN   \n...                     ...    ...                ...       ...         ...   \n4318             PRESENCIAL      F        SUPER SALUD       NaN  FINALIZADO   \n4319                    NaN      M                NaN       NaN         NaN   \n4320                    NaN      M                NaN       NaN         NaN   \n4321                    NaN      M                NaN       NaN         NaN   \n4322                    NaN      M                NaN       NaN         NaN   \n\n     MONITOREO       EAPB TIPO DE PQRSDF  EDAD TIPO DE DOCUMENTO PREFERENCIAL  \\\n0          NaN        NaN            NaN   NaN               NaN          NaN   \n1          NaN        NaN            NaN   NaN               NaN          NaN   \n2          NaN        NaN            NaN   NaN               NaN          NaN   \n3          NaN        NaN            NaN   NaN               NaN          NaN   \n4          NaN        NaN            NaN   NaN               NaN          NaN   \n...        ...        ...            ...   ...               ...          ...   \n4318       NaN  NUEVA EPS              P   NaN               C.E       Adulto   \n4319       NaN        NaN            NaN   NaN               R.C       Adulto   \n4320       NaN        NaN            NaN   NaN               R.C       Adulto   \n4321       NaN        NaN            NaN   NaN               R.C       Adulto   \n4322       NaN        NaN            NaN   NaN               R.C       Adulto   \n\n     NACIONALIDAD  \n0             NaN  \n1             NaN  \n2             NaN  \n3             NaN  \n4             NaN  \n...           ...  \n4318     Migrante  \n4319     Migrante  \n4320     Migrante  \n4321     Migrante  \n4322     Migrante  \n\n[4323 rows x 20 columns]",
      "text/html": "<div>\n<style scoped>\n    .dataframe tbody tr th:only-of-type {\n        vertical-align: middle;\n    }\n\n    .dataframe tbody tr th {\n        vertical-align: top;\n    }\n\n    .dataframe thead th {\n        text-align: right;\n    }\n</style>\n<table border=\"1\" class=\"dataframe\">\n  <thead>\n    <tr style=\"text-align: right;\">\n      <th></th>\n      <th>RADICADO</th>\n      <th>FECHA</th>\n      <th>ASUNTO</th>\n      <th>DIRECCION</th>\n      <th>MUNICIPIO</th>\n      <th>DEPARTAMENTO</th>\n      <th>PAIS</th>\n      <th>TEXTO PQRSDF</th>\n      <th>CANAL DE COMUNICACIÃN</th>\n      <th>GENERO</th>\n      <th>AREA O DEPENDENCIA</th>\n      <th>RESULTADO</th>\n      <th>ESTADO</th>\n      <th>MONITOREO</th>\n      <th>EAPB</th>\n      <th>TIPO DE PQRSDF</th>\n      <th>EDAD</th>\n      <th>TIPO DE DOCUMENTO</th>\n      <th>PREFERENCIAL</th>\n      <th>NACIONALIDAD</th>\n    </tr>\n  </thead>\n  <tbody>\n    <tr>\n      <th>0</th>\n      <td>2.019170e+13</td>\n      <td>2019-05-06 14:24:20.476704</td>\n      <td>INFORMACION DE CAMBIO DE DIRECCION</td>\n      <td>CARRERA 14 No. 13-82</td>\n      <td>SOGAMOSO</td>\n      <td>BOYACA</td>\n      <td>COLOMBIA</td>\n      <td>NaN</td>\n      <td>NaN</td>\n      <td>NaN</td>\n      <td>NaN</td>\n      <td>NaN</td>\n      <td>NaN</td>\n      <td>NaN</td>\n      <td>NaN</td>\n      <td>NaN</td>\n      <td>NaN</td>\n      <td>NaN</td>\n      <td>NaN</td>\n      <td>NaN</td>\n    </tr>\n    <tr>\n      <th>1</th>\n      <td>2.019170e+13</td>\n      <td>2019-05-06 16:14:32.807325</td>\n      <td>DESCARGOS POR PROCESO SANCIONATORIO Y CARGOS D...</td>\n      <td>KRA 10 A NÂ° 53-68 JUAN JOSE RONDON</td>\n      <td>SOGAMOSO</td>\n      <td>BOYACA</td>\n      <td>COLOMBIA</td>\n      <td>NaN</td>\n      <td>NaN</td>\n      <td>NaN</td>\n      <td>NaN</td>\n      <td>NaN</td>\n      <td>NaN</td>\n      <td>NaN</td>\n      <td>NaN</td>\n      <td>NaN</td>\n      <td>NaN</td>\n      <td>NaN</td>\n      <td>NaN</td>\n      <td>NaN</td>\n    </tr>\n    <tr>\n      <th>2</th>\n      <td>2.019170e+13</td>\n      <td>2019-05-06 17:20:00.604149</td>\n      <td>PD-1149\\r\\nRADICADO 1039 DE 24 DE ABRIL DE 2019</td>\n      <td>CALLE 15 NO. 11-79 OFICINA 302 EDIFICIO EL PIN...</td>\n      <td>SOGAMOSO</td>\n      <td>BOYACA</td>\n      <td>COLOMBIA</td>\n      <td>NaN</td>\n      <td>NaN</td>\n      <td>NaN</td>\n      <td>NaN</td>\n      <td>NaN</td>\n      <td>NaN</td>\n      <td>NaN</td>\n      <td>NaN</td>\n      <td>NaN</td>\n      <td>NaN</td>\n      <td>NaN</td>\n      <td>NaN</td>\n      <td>NaN</td>\n    </tr>\n    <tr>\n      <th>3</th>\n      <td>2.019170e+13</td>\n      <td>2019-05-07 10:48:55.942940</td>\n      <td>TRASLADO DENUNCIA CON RADICADO INVIMA No. 2019...</td>\n      <td>CRA 10 N 64-28</td>\n      <td>BOGOTA</td>\n      <td>D.C.</td>\n      <td>COLOMBIA</td>\n      <td>NaN</td>\n      <td>NaN</td>\n      <td>NaN</td>\n      <td>NaN</td>\n      <td>NaN</td>\n      <td>NaN</td>\n      <td>NaN</td>\n      <td>NaN</td>\n      <td>NaN</td>\n      <td>NaN</td>\n      <td>NaN</td>\n      <td>NaN</td>\n      <td>NaN</td>\n    </tr>\n    <tr>\n      <th>4</th>\n      <td>2.019170e+13</td>\n      <td>2019-05-07 11:44:11.598638</td>\n      <td>SOLICITUD INFORMACION</td>\n      <td>CARRERA 12 No. 16-31 PISO 3</td>\n      <td>SOGAMOSO</td>\n      <td>BOYACA</td>\n      <td>COLOMBIA</td>\n      <td>NaN</td>\n      <td>NaN</td>\n      <td>NaN</td>\n      <td>NaN</td>\n      <td>NaN</td>\n      <td>NaN</td>\n      <td>NaN</td>\n      <td>NaN</td>\n      <td>NaN</td>\n      <td>NaN</td>\n      <td>NaN</td>\n      <td>NaN</td>\n      <td>NaN</td>\n    </tr>\n    <tr>\n      <th>...</th>\n      <td>...</td>\n      <td>...</td>\n      <td>...</td>\n      <td>...</td>\n      <td>...</td>\n      <td>...</td>\n      <td>...</td>\n      <td>...</td>\n      <td>...</td>\n      <td>...</td>\n      <td>...</td>\n      <td>...</td>\n      <td>...</td>\n      <td>...</td>\n      <td>...</td>\n      <td>...</td>\n      <td>...</td>\n      <td>...</td>\n      <td>...</td>\n      <td>...</td>\n    </tr>\n    <tr>\n      <th>4318</th>\n      <td>NaN</td>\n      <td>2022-04-29 00:00:00.000000</td>\n      <td>NaN</td>\n      <td>NaN</td>\n      <td>NaN</td>\n      <td>NaN</td>\n      <td>NaN</td>\n      <td>USUARIA QUE SOLICITA ASESORIA DEL DELEGADO DE ...</td>\n      <td>PRESENCIAL</td>\n      <td>F</td>\n      <td>SUPER SALUD</td>\n      <td>NaN</td>\n      <td>FINALIZADO</td>\n      <td>NaN</td>\n      <td>NUEVA EPS</td>\n      <td>P</td>\n      <td>NaN</td>\n      <td>C.E</td>\n      <td>Adulto</td>\n      <td>Migrante</td>\n    </tr>\n    <tr>\n      <th>4319</th>\n      <td>NaN</td>\n      <td>2022-04-29 00:00:00.000000</td>\n      <td>NaN</td>\n      <td>NaN</td>\n      <td>NaN</td>\n      <td>NaN</td>\n      <td>NaN</td>\n      <td>NaN</td>\n      <td>NaN</td>\n      <td>M</td>\n      <td>NaN</td>\n      <td>NaN</td>\n      <td>NaN</td>\n      <td>NaN</td>\n      <td>NaN</td>\n      <td>NaN</td>\n      <td>NaN</td>\n      <td>R.C</td>\n      <td>Adulto</td>\n      <td>Migrante</td>\n    </tr>\n    <tr>\n      <th>4320</th>\n      <td>NaN</td>\n      <td>2022-04-29 00:00:00.000000</td>\n      <td>NaN</td>\n      <td>NaN</td>\n      <td>NaN</td>\n      <td>NaN</td>\n      <td>NaN</td>\n      <td>NaN</td>\n      <td>NaN</td>\n      <td>M</td>\n      <td>NaN</td>\n      <td>NaN</td>\n      <td>NaN</td>\n      <td>NaN</td>\n      <td>NaN</td>\n      <td>NaN</td>\n      <td>NaN</td>\n      <td>R.C</td>\n      <td>Adulto</td>\n      <td>Migrante</td>\n    </tr>\n    <tr>\n      <th>4321</th>\n      <td>NaN</td>\n      <td>2022-04-29 00:00:00.000000</td>\n      <td>NaN</td>\n      <td>NaN</td>\n      <td>NaN</td>\n      <td>NaN</td>\n      <td>NaN</td>\n      <td>NaN</td>\n      <td>NaN</td>\n      <td>M</td>\n      <td>NaN</td>\n      <td>NaN</td>\n      <td>NaN</td>\n      <td>NaN</td>\n      <td>NaN</td>\n      <td>NaN</td>\n      <td>NaN</td>\n      <td>R.C</td>\n      <td>Adulto</td>\n      <td>Migrante</td>\n    </tr>\n    <tr>\n      <th>4322</th>\n      <td>NaN</td>\n      <td>2022-04-29 00:00:00.000000</td>\n      <td>NaN</td>\n      <td>NaN</td>\n      <td>NaN</td>\n      <td>NaN</td>\n      <td>NaN</td>\n      <td>NaN</td>\n      <td>NaN</td>\n      <td>M</td>\n      <td>NaN</td>\n      <td>NaN</td>\n      <td>NaN</td>\n      <td>NaN</td>\n      <td>NaN</td>\n      <td>NaN</td>\n      <td>NaN</td>\n      <td>R.C</td>\n      <td>Adulto</td>\n      <td>Migrante</td>\n    </tr>\n  </tbody>\n</table>\n<p>4323 rows × 20 columns</p>\n</div>"
     },
     "metadata": {}
    }
   ]
  },
  {
   "cell_type": "code",
   "metadata": {
    "tags": [],
    "cell_id": "7f1080d7-af62-446a-ac04-48c5b401f42d",
    "deepnote_to_be_reexecuted": false,
    "source_hash": "9eb7e3b1",
    "execution_start": 1656954673720,
    "execution_millis": 29,
    "owner_user_id": "2103c5c9-0d28-43ba-9bca-350e3839c317",
    "deepnote_cell_type": "code",
    "deepnote_cell_height": 453.6875
   },
   "source": "#We duplicate the dataframe for get just the important info and clean it.\nlow = df[['TEXTO PQRSDF', 'TIPO DE PQRSDF']].copy()\nlow=low.dropna()\n\n# Selecting non alpha numeric charactes that are not spaces\nspecial_chars = low['TEXTO PQRSDF'].apply(lambda x: [each for each in list(x) if not each.isalnum() and each != ' '])\n\n# Getting list of list into a single list\nflat_list = [item for sublist in special_chars for item in sublist]\n\n# Unique special characters\nprint(set(flat_list))\n\n#Remove them\nimport re\nlow['TEXTO PQRSDF']=low['TEXTO PQRSDF'].apply(lambda x: re.sub('[^A-Za-z0-9 ]+', ' ', x))\n\n#Export the dataframe for the models\npickle.dump(low, open(\"variables/df.dat\", \"wb\"))\n",
   "execution_count": null,
   "outputs": [
    {
     "name": "stdout",
     "text": "{'\\x93', '\\x81', '\\x91', '#', ';', '´', '/', '(', '\"', ')', '-', '*', '%', ':', '\\x9c', '\\x9a', '?', '+', ',', '.'}\n",
     "output_type": "stream"
    }
   ]
  },
  {
   "cell_type": "code",
   "metadata": {
    "cell_id": "eaa251ba4f4248b596a236bb48291a37",
    "tags": [],
    "deepnote_to_be_reexecuted": false,
    "source_hash": "3d383ff1",
    "execution_start": 1656954673751,
    "execution_millis": 36,
    "deepnote_cell_type": "code",
    "deepnote_cell_height": 277.078125
   },
   "source": "#We get the stopwords of spanish and use them\nnltk.download('stopwords')\n\nnoise_words = []\nstopwords_corpus = nltk.corpus.stopwords\nspn_stop_words = stopwords_corpus.words('spanish')\nnoise_words.extend(spn_stop_words)\nprint(len(noise_words))",
   "execution_count": null,
   "outputs": [
    {
     "name": "stdout",
     "text": "313\n[nltk_data] Downloading package stopwords to /root/nltk_data...\n[nltk_data]   Unzipping corpora/stopwords.zip.\n",
     "output_type": "stream"
    }
   ]
  },
  {
   "cell_type": "code",
   "metadata": {
    "cell_id": "21d82179c443405983a7282bbc91640a",
    "tags": [],
    "deepnote_to_be_reexecuted": false,
    "source_hash": "e75b6cb0",
    "execution_start": 1656954673789,
    "execution_millis": 4,
    "deepnote_cell_type": "code",
    "deepnote_cell_height": 135
   },
   "source": "#Export the bow_counts for the models\nbow1_counts = CountVectorizer(tokenizer=word_tokenize,stop_words=noise_words,ngram_range=(1, 1))\npickle.dump(bow1_counts, open(\"variables/bow_counts.dat\", \"wb\"))\n",
   "execution_count": null,
   "outputs": []
  },
  {
   "cell_type": "markdown",
   "source": "<a style='text-decoration:none;line-height:16px;display:flex;color:#5B5B62;padding:10px;justify-content:end;' href='https://deepnote.com?utm_source=created-in-deepnote-cell&projectId=746f9757-a4f8-490f-a84c-875a1acb7471' target=\"_blank\">\n<img alt='Created in deepnote.com' style='display:inline;max-height:16px;margin:0px;margin-right:7.5px;' src='data:image/svg+xml;base64,PD94bWwgdmVyc2lvbj0iMS4wIiBlbmNvZGluZz0iVVRGLTgiPz4KPHN2ZyB3aWR0aD0iODBweCIgaGVpZ2h0PSI4MHB4IiB2aWV3Qm94PSIwIDAgODAgODAiIHZlcnNpb249IjEuMSIgeG1sbnM9Imh0dHA6Ly93d3cudzMub3JnLzIwMDAvc3ZnIiB4bWxuczp4bGluaz0iaHR0cDovL3d3dy53My5vcmcvMTk5OS94bGluayI+CiAgICA8IS0tIEdlbmVyYXRvcjogU2tldGNoIDU0LjEgKDc2NDkwKSAtIGh0dHBzOi8vc2tldGNoYXBwLmNvbSAtLT4KICAgIDx0aXRsZT5Hcm91cCAzPC90aXRsZT4KICAgIDxkZXNjPkNyZWF0ZWQgd2l0aCBTa2V0Y2guPC9kZXNjPgogICAgPGcgaWQ9IkxhbmRpbmciIHN0cm9rZT0ibm9uZSIgc3Ryb2tlLXdpZHRoPSIxIiBmaWxsPSJub25lIiBmaWxsLXJ1bGU9ImV2ZW5vZGQiPgogICAgICAgIDxnIGlkPSJBcnRib2FyZCIgdHJhbnNmb3JtPSJ0cmFuc2xhdGUoLTEyMzUuMDAwMDAwLCAtNzkuMDAwMDAwKSI+CiAgICAgICAgICAgIDxnIGlkPSJHcm91cC0zIiB0cmFuc2Zvcm09InRyYW5zbGF0ZSgxMjM1LjAwMDAwMCwgNzkuMDAwMDAwKSI+CiAgICAgICAgICAgICAgICA8cG9seWdvbiBpZD0iUGF0aC0yMCIgZmlsbD0iIzAyNjVCNCIgcG9pbnRzPSIyLjM3NjIzNzYyIDgwIDM4LjA0NzY2NjcgODAgNTcuODIxNzgyMiA3My44MDU3NTkyIDU3LjgyMTc4MjIgMzIuNzU5MjczOSAzOS4xNDAyMjc4IDMxLjY4MzE2ODMiPjwvcG9seWdvbj4KICAgICAgICAgICAgICAgIDxwYXRoIGQ9Ik0zNS4wMDc3MTgsODAgQzQyLjkwNjIwMDcsNzYuNDU0OTM1OCA0Ny41NjQ5MTY3LDcxLjU0MjI2NzEgNDguOTgzODY2LDY1LjI2MTk5MzkgQzUxLjExMjI4OTksNTUuODQxNTg0MiA0MS42NzcxNzk1LDQ5LjIxMjIyODQgMjUuNjIzOTg0Niw0OS4yMTIyMjg0IEMyNS40ODQ5Mjg5LDQ5LjEyNjg0NDggMjkuODI2MTI5Niw0My4yODM4MjQ4IDM4LjY0NzU4NjksMzEuNjgzMTY4MyBMNzIuODcxMjg3MSwzMi41NTQ0MjUgTDY1LjI4MDk3Myw2Ny42NzYzNDIxIEw1MS4xMTIyODk5LDc3LjM3NjE0NCBMMzUuMDA3NzE4LDgwIFoiIGlkPSJQYXRoLTIyIiBmaWxsPSIjMDAyODY4Ij48L3BhdGg+CiAgICAgICAgICAgICAgICA8cGF0aCBkPSJNMCwzNy43MzA0NDA1IEwyNy4xMTQ1MzcsMC4yNTcxMTE0MzYgQzYyLjM3MTUxMjMsLTEuOTkwNzE3MDEgODAsMTAuNTAwMzkyNyA4MCwzNy43MzA0NDA1IEM4MCw2NC45NjA0ODgyIDY0Ljc3NjUwMzgsNzkuMDUwMzQxNCAzNC4zMjk1MTEzLDgwIEM0Ny4wNTUzNDg5LDc3LjU2NzA4MDggNTMuNDE4MjY3Nyw3MC4zMTM2MTAzIDUzLjQxODI2NzcsNTguMjM5NTg4NSBDNTMuNDE4MjY3Nyw0MC4xMjg1NTU3IDM2LjMwMzk1NDQsMzcuNzMwNDQwNSAyNS4yMjc0MTcsMzcuNzMwNDQwNSBDMTcuODQzMDU4NiwzNy43MzA0NDA1IDkuNDMzOTE5NjYsMzcuNzMwNDQwNSAwLDM3LjczMDQ0MDUgWiIgaWQ9IlBhdGgtMTkiIGZpbGw9IiMzNzkzRUYiPjwvcGF0aD4KICAgICAgICAgICAgPC9nPgogICAgICAgIDwvZz4KICAgIDwvZz4KPC9zdmc+' > </img>\nCreated in <span style='font-weight:600;margin-left:4px;'>Deepnote</span></a>",
   "metadata": {
    "tags": [],
    "created_in_deepnote_cell": true,
    "deepnote_cell_type": "markdown"
   }
  }
 ],
 "nbformat": 4,
 "nbformat_minor": 2,
 "metadata": {
  "orig_nbformat": 2,
  "deepnote": {},
  "deepnote_notebook_id": "12ff87d9-8c3d-4125-8088-3ad24044e5fe",
  "deepnote_execution_queue": []
 }
}