{
 "cells": [
  {
   "cell_type": "markdown",
   "source": "# Modeling: sentiment analysis",
   "metadata": {
    "formattedRanges": [],
    "tags": [],
    "is_collapsed": false,
    "cell_id": "2f968eb6-1df2-40b4-80bd-23c7d7cece88",
    "deepnote_cell_type": "text-cell-h1"
   }
  },
  {
   "cell_type": "code",
   "metadata": {
    "tags": [],
    "deepnote_to_be_reexecuted": false,
    "source_hash": "259f166a",
    "execution_start": 1657232138073,
    "execution_millis": 150994,
    "cell_id": "00001-b50c2f02-c5b9-4838-9469-84edffccf6dc",
    "owner_user_id": "6d75652d-c0f9-41c7-a679-dd8ad47e01cf",
    "deepnote_cell_type": "code",
    "deepnote_cell_height": 99
   },
   "source": "#install all the libreries we need for the logistic regression\n#!pip install -r requirements.txt",
   "execution_count": 1,
   "outputs": []
  },
  {
   "cell_type": "code",
   "metadata": {
    "tags": [],
    "deepnote_to_be_reexecuted": false,
    "source_hash": "6c2c7c14",
    "execution_start": 1657232138073,
    "execution_millis": 3300,
    "cell_id": "00002-abfb9a02-e4f4-4c66-91f2-70976eac82bd",
    "deepnote_cell_type": "code",
    "deepnote_cell_height": 615.578125,
    "deepnote_output_heights": [
     null,
     21.1875
    ]
   },
   "source": "#This is the process where we import all that we may need.\n\n#General\nimport numpy as np\nimport pandas as pd\nimport pickle\n\n#Graphics\nimport matplotlib.pyplot as plt\nimport seaborn as sns\n\n#Model\nimport nltk\nimport statistics\nfrom sklearn.model_selection import train_test_split\nfrom sklearn.model_selection import StratifiedKFold\nfrom sklearn.model_selection import GridSearchCV\nfrom sklearn.model_selection import ShuffleSplit\nfrom sklearn.metrics import classification_report \nfrom sklearn.metrics import confusion_matrix \nfrom sklearn.metrics import mean_squared_error\nfrom sklearn.linear_model import LogisticRegression\nfrom sklearn.metrics import accuracy_score\nfrom sklearn.metrics import f1_score\nnltk.download('punkt')",
   "execution_count": 2,
   "outputs": [
    {
     "name": "stderr",
     "text": "[nltk_data] Downloading package punkt to /root/nltk_data...\n[nltk_data]   Package punkt is already up-to-date!\n",
     "output_type": "stream"
    },
    {
     "output_type": "execute_result",
     "execution_count": 2,
     "data": {
      "text/plain": "True"
     },
     "metadata": {}
    }
   ]
  },
  {
   "cell_type": "code",
   "metadata": {
    "cell_id": "494bcb5ccc204ed8a1739befb98c805e",
    "tags": [],
    "deepnote_to_be_reexecuted": false,
    "source_hash": "22dee703",
    "execution_start": 1657232141381,
    "execution_millis": 515,
    "deepnote_cell_type": "code",
    "deepnote_cell_height": 99
   },
   "source": "# loading the csv file\ndf=pd.read_csv('/datasets/gdrive/DS4A - Team Project/data/all_data.csv')",
   "execution_count": 3,
   "outputs": []
  },
  {
   "cell_type": "markdown",
   "source": "# Logistic Regression ",
   "metadata": {
    "formattedRanges": [],
    "tags": [],
    "is_collapsed": false,
    "cell_id": "00005-4b3a359f-00ed-49f2-9904-2af50ea6deae",
    "deepnote_cell_type": "text-cell-h1"
   }
  },
  {
   "cell_type": "code",
   "metadata": {
    "tags": [],
    "deepnote_to_be_reexecuted": false,
    "source_hash": "81c8e4f7",
    "execution_start": 1657232141903,
    "execution_millis": 122,
    "deepnote_table_state": {
     "pageSize": 10,
     "pageIndex": 7,
     "filters": [],
     "sortBy": [
      {
       "id": "TIPO DE PQRSDF",
       "type": "desc"
      }
     ]
    },
    "deepnote_table_loading": false,
    "cell_id": "00006-cc65f714-f622-4a7f-a63f-e1985be5eee0",
    "deepnote_cell_type": "code",
    "deepnote_cell_height": 463
   },
   "source": "#We import our Dataframe that will be use for fitting the model\nlow = pickle.load(open(\"variables/df.dat\", \"rb\"))\nlow.head()",
   "execution_count": 4,
   "outputs": [
    {
     "output_type": "execute_result",
     "execution_count": 4,
     "data": {
      "application/vnd.deepnote.dataframe.v3+json": {
       "column_count": 2,
       "row_count": 5,
       "columns": [
        {
         "name": "TEXTO PQRSDF",
         "dtype": "object",
         "stats": {
          "unique_count": 5,
          "nan_count": 0,
          "categories": [
           {
            "name": "BUSCA INFORMACION VACUNACION COVID PRIMERA VACUNA AFILADA ALA EPS COMFAMILIAR ADICIONAL BUSCA BUSCA INFORMACION PARA SU ESPOSO CON CONMORBILIDAD TIPO 1 NEUROFIBROMATOSIS",
            "count": 1
           },
           {
            "name": "SOLICITA AFILIACION  PARA HIJA DE 8 MESES DE EDAD Y 3 A OS",
            "count": 1
           },
           {
            "name": "3 others",
            "count": 3
           }
          ]
         }
        },
        {
         "name": "TIPO DE PQRSDF",
         "dtype": "object",
         "stats": {
          "unique_count": 1,
          "nan_count": 0,
          "categories": [
           {
            "name": "S",
            "count": 5
           }
          ]
         }
        },
        {
         "name": "_deepnote_index_column",
         "dtype": "int64"
        }
       ],
       "rows": [
        {
         "TEXTO PQRSDF": "BUSCA INFORMACION VACUNACION COVID PRIMERA VACUNA AFILADA ALA EPS COMFAMILIAR ADICIONAL BUSCA BUSCA INFORMACION PARA SU ESPOSO CON CONMORBILIDAD TIPO 1 NEUROFIBROMATOSIS",
         "TIPO DE PQRSDF": "S",
         "_deepnote_index_column": 2722
        },
        {
         "TEXTO PQRSDF": "SOLICITA AFILIACION  PARA HIJA DE 8 MESES DE EDAD Y 3 A OS",
         "TIPO DE PQRSDF": "S",
         "_deepnote_index_column": 2723
        },
        {
         "TEXTO PQRSDF": "AFLIADO A COMPARTA BUSCA INFORMACION SOBRE ATENCION A CUAL EPS DIRIGIRSE",
         "TIPO DE PQRSDF": "S",
         "_deepnote_index_column": 2724
        },
        {
         "TEXTO PQRSDF": "BUSCA AGILIDAD PARA LA AUTORIZACION DE UN EXAMEN EL CUAL REQUIERE CON URGENCIA  AFILIADO A NUEVA EPS",
         "TIPO DE PQRSDF": "S",
         "_deepnote_index_column": 2725
        },
        {
         "TEXTO PQRSDF": "BUSCA PORTABILIDAD DESDE EPS CAPITAL SALUD REGIMEN SUBSIDIADO  NO POSEE EL SISBEN PARA LOGRAR LA PORTABILIDAD ",
         "TIPO DE PQRSDF": "S",
         "_deepnote_index_column": 2726
        }
       ]
      },
      "text/plain": "                                           TEXTO PQRSDF TIPO DE PQRSDF\n2722  BUSCA INFORMACION VACUNACION COVID PRIMERA VAC...              S\n2723  SOLICITA AFILIACION  PARA HIJA DE 8 MESES DE E...              S\n2724  AFLIADO A COMPARTA BUSCA INFORMACION SOBRE ATE...              S\n2725  BUSCA AGILIDAD PARA LA AUTORIZACION DE UN EXAM...              S\n2726  BUSCA PORTABILIDAD DESDE EPS CAPITAL SALUD REG...              S",
      "text/html": "<div>\n<style scoped>\n    .dataframe tbody tr th:only-of-type {\n        vertical-align: middle;\n    }\n\n    .dataframe tbody tr th {\n        vertical-align: top;\n    }\n\n    .dataframe thead th {\n        text-align: right;\n    }\n</style>\n<table border=\"1\" class=\"dataframe\">\n  <thead>\n    <tr style=\"text-align: right;\">\n      <th></th>\n      <th>TEXTO PQRSDF</th>\n      <th>TIPO DE PQRSDF</th>\n    </tr>\n  </thead>\n  <tbody>\n    <tr>\n      <th>2722</th>\n      <td>BUSCA INFORMACION VACUNACION COVID PRIMERA VAC...</td>\n      <td>S</td>\n    </tr>\n    <tr>\n      <th>2723</th>\n      <td>SOLICITA AFILIACION  PARA HIJA DE 8 MESES DE E...</td>\n      <td>S</td>\n    </tr>\n    <tr>\n      <th>2724</th>\n      <td>AFLIADO A COMPARTA BUSCA INFORMACION SOBRE ATE...</td>\n      <td>S</td>\n    </tr>\n    <tr>\n      <th>2725</th>\n      <td>BUSCA AGILIDAD PARA LA AUTORIZACION DE UN EXAM...</td>\n      <td>S</td>\n    </tr>\n    <tr>\n      <th>2726</th>\n      <td>BUSCA PORTABILIDAD DESDE EPS CAPITAL SALUD REG...</td>\n      <td>S</td>\n    </tr>\n  </tbody>\n</table>\n</div>"
     },
     "metadata": {}
    }
   ]
  },
  {
   "cell_type": "code",
   "metadata": {
    "tags": [],
    "deepnote_to_be_reexecuted": false,
    "source_hash": "b4a3c871",
    "execution_start": 1657232142023,
    "execution_millis": 250,
    "cell_id": "00011-5a7f09f5-d04b-4902-8115-ee7ff716ab99",
    "deepnote_cell_type": "code",
    "deepnote_cell_height": 250.171875,
    "deepnote_output_heights": [
     117.171875
    ]
   },
   "source": "#We import our Parameters for transforming the text that will be used by the model\nbow_counts = pickle.load(open(\"variables/bow_counts.dat\", \"rb\"))\nbow_counts",
   "execution_count": 5,
   "outputs": [
    {
     "output_type": "execute_result",
     "execution_count": 5,
     "data": {
      "text/plain": "CountVectorizer(stop_words=['de', 'la', 'que', 'el', 'en', 'y', 'a', 'los',\n                            'del', 'se', 'las', 'por', 'un', 'para', 'con',\n                            'no', 'una', 'su', 'al', 'lo', 'como', 'más',\n                            'pero', 'sus', 'le', 'ya', 'o', 'este', 'sí',\n                            'porque', ...],\n                tokenizer=<function word_tokenize at 0x7fa8c3e8bc20>)"
     },
     "metadata": {}
    }
   ]
  },
  {
   "cell_type": "code",
   "metadata": {
    "cell_id": "3daf2f542d1645a9a91ba4577845eb3d",
    "tags": [],
    "deepnote_to_be_reexecuted": false,
    "source_hash": "da2622a9",
    "execution_start": 1657232142069,
    "execution_millis": 417,
    "deepnote_cell_type": "code",
    "deepnote_cell_height": 473.390625
   },
   "source": "# model with just one non-stratified train-test split\n\n#Split the info and define the X & Y test and train\nreviews_train, reviews_test = train_test_split(low, test_size=0.2, random_state=42) # add stratify=y\nX_train_bow = bow_counts.fit_transform(reviews_train['TEXTO PQRSDF'])\nX_test_bow = bow_counts.transform(reviews_test['TEXTO PQRSDF'])\ny_train_bow = reviews_train['TIPO DE PQRSDF']\ny_test_bow = reviews_test['TIPO DE PQRSDF']\n\n#Define the model and fit it \nlr_model_all = LogisticRegression(C=1, solver=\"liblinear\")\nlr_fitted = lr_model_all.fit(X_train_bow, y_train_bow)\n\n# Predicting the output\ntest_pred_lr_prob = lr_fitted.predict_proba(X_test_bow)\ntest_pred_lr_all = lr_fitted.predict(X_test_bow)\n\n#Accuracy of the model\nprint(\"F1 score: \", f1_score(y_test_bow, test_pred_lr_all,average='micro'))\nprint(\"Accuracy: \", accuracy_score(y_test_bow, test_pred_lr_all) * 100)",
   "execution_count": 6,
   "outputs": [
    {
     "name": "stdout",
     "text": "F1 score:  0.6603053435114504\nAccuracy:  66.03053435114504\n",
     "output_type": "stream"
    }
   ]
  },
  {
   "cell_type": "code",
   "metadata": {
    "tags": [],
    "deepnote_to_be_reexecuted": false,
    "source_hash": "b05abcea",
    "execution_start": 1657232142514,
    "execution_millis": 550,
    "cell_id": "00013-48a729d0-6db6-4af9-b1de-3785ff4a4d2d",
    "deepnote_table_state": {
     "pageSize": 10,
     "pageIndex": 328,
     "filters": [],
     "sortBy": []
    },
    "deepnote_table_loading": false,
    "owner_user_id": "6513d84a-4072-421b-9854-24ebbe966f08",
    "deepnote_cell_type": "code",
    "deepnote_cell_height": 473.390625
   },
   "source": "# model with just one stratified train-test split\n\n#Split the info and define the X & Y test and train\nreviews_train_strat, reviews_test_strat = train_test_split(low, test_size=0.2, random_state=42, stratify=low['TIPO DE PQRSDF'])\nX_train_bow_strat = bow_counts.fit_transform(reviews_train_strat['TEXTO PQRSDF'])\nX_test_bow_strat = bow_counts.transform(reviews_test_strat['TEXTO PQRSDF'])\ny_train_bow_strat = reviews_train_strat['TIPO DE PQRSDF']\ny_test_bow_strat = reviews_test_strat['TIPO DE PQRSDF']\n\n#Define the model and fit it \nlr_model_all = LogisticRegression(C=1, solver=\"liblinear\")\nlr_fitted_strat = lr_model_all.fit(X_train_bow_strat, y_train_bow_strat)\n\n# Predicting the output\ntest_pred_lr_prob_strat = lr_fitted_strat.predict_proba(X_test_bow_strat)\ntest_pred_lr_all_strat = lr_fitted_strat.predict(X_test_bow_strat)\n\n#Accuracy of the model\nprint(\"F1 score: \", f1_score(y_test_bow_strat, test_pred_lr_all_strat, average='micro'))\nprint(\"Accuracy: \", accuracy_score(y_test_bow_strat, test_pred_lr_all_strat) * 100)",
   "execution_count": 7,
   "outputs": [
    {
     "name": "stdout",
     "text": "F1 score:  0.6755725190839694\nAccuracy:  67.55725190839695\n",
     "output_type": "stream"
    }
   ]
  },
  {
   "cell_type": "code",
   "metadata": {
    "cell_id": "0750d0c26799480d8b36be2f117b182b",
    "tags": [],
    "deepnote_to_be_reexecuted": false,
    "source_hash": "6f68559a",
    "execution_start": 1657232143060,
    "execution_millis": 23105,
    "deepnote_cell_type": "code",
    "deepnote_cell_height": 728.78125
   },
   "source": "# PERFORM HYPERPARAMETER TUNING WITH K-FOLD CROSS-VALIDATION, AND STRATIFICATION\n\nX = low['TEXTO PQRSDF']\ny = low['TIPO DE PQRSDF']\n\n# split the data into training and test set\nX_train, X_test, y_train, y_test = train_test_split(X, y, test_size = 0.2, random_state=42, stratify = y)\n\n# vectorize the text of PQRSDFs\nX_train_vector = bow_counts.fit_transform(X_train)\nX_test_vector = bow_counts.transform(X_test)\n\n# Instantiate the estimator: logistic regression\nlr_model_gs = LogisticRegression(solver=\"liblinear\", max_iter=10000)\n\n# create the hyperparameter grid\nparam_grid = {'C': np.logspace(-5, 8, 15), 'penalty': ['l1', 'l2']}\n\n# instantiate the GridSearchCV object with stratified 5-fold cross-validation (cv=5), to perform hyperparameter tuning\nlr_cv = GridSearchCV(lr_model_gs, param_grid, cv=5)\n\n# fit it to the training data\nlr_cv.fit(X_train_vector, y_train)\n\n# make prediction on test set\ny_pred_prob = lr_cv.predict_proba(X_test_vector)\ny_pred = lr_cv.predict(X_test_vector)\n\nprint(\"Tuned Logistic Regression best Parameters: {}\".format(lr_cv.best_params_))\nprint(\"Tuned and cross-validated Logistic Regression Accuracy: {}\".format(lr_cv.best_score_))\nprint(\"F1 score when predicting on the test set: \", f1_score(y_test, y_pred, average='micro'))\nprint(\"Accuracy when predicting on the test set: \", accuracy_score(y_test, y_pred) * 100)",
   "execution_count": 8,
   "outputs": [
    {
     "name": "stdout",
     "text": "Tuned Logistic Regression best Parameters: {'C': 0.4393970560760795, 'penalty': 'l2'}\nTuned and cross-validated Logistic Regression Accuracy: 0.6688995215311004\nF1 score when predicting on the test set:  0.6755725190839694\nAccuracy when predicting on the test set:  67.55725190839695\n",
     "output_type": "stream"
    }
   ]
  },
  {
   "cell_type": "code",
   "metadata": {
    "cell_id": "623410c51460498f91116b2ce25bdd2f",
    "tags": [],
    "deepnote_to_be_reexecuted": false,
    "source_hash": "11675053",
    "execution_start": 1657232165806,
    "execution_millis": 122165,
    "owner_user_id": "71a0a57a-309b-4aaf-ab63-57a8435476cb",
    "deepnote_cell_type": "code",
    "deepnote_cell_height": 169.078125
   },
   "source": "# confusion matrix for model lr_cv\nprint(confusion_matrix(y_test, y_pred, labels=['P','Q','S']))",
   "execution_count": 9,
   "outputs": [
    {
     "name": "stdout",
     "text": "[[70  9 21]\n [10 41  9]\n [27  9 66]]\n",
     "output_type": "stream"
    }
   ]
  },
  {
   "cell_type": "code",
   "metadata": {
    "cell_id": "896a30015bf24f59a5bb3900d5147638",
    "tags": [],
    "deepnote_to_be_reexecuted": false,
    "source_hash": "a3817926",
    "execution_start": 1657232165826,
    "execution_millis": 2466,
    "deepnote_cell_type": "code",
    "deepnote_cell_height": 387
   },
   "source": "# Let's now predict null values in column df['TIPO DE PQRSDF'] \n\ndf_cop = df.copy()\n\n# slice the rows for which we have text of PQRSDFs, but no information of type of PQRSDF\ndft = df_cop[df_cop['TIPO DE PQRSDF'].isnull() & df_cop['TEXTO PQRSDF'].notnull()]\n\n#Vectorize text pqrsdf\ndata = bow_counts.transform(dft['TEXTO PQRSDF'])\n\n#Predicting the output using the model lr_cv\npred = lr_cv.predict(data)\n\n#Assign the predicted values to the null cells in df_cop\ndf_cop.loc[dft.index,'TIPO DE PQRSDF'] = pred\n\n# Export this new dataframe to a csv file\ndf_cop.to_csv('/datasets/gdrive/DS4A - Team Project/data/predicted_data.csv')",
   "execution_count": 10,
   "outputs": []
  },
  {
   "cell_type": "code",
   "metadata": {
    "cell_id": "d01d9647fd2e48dea2091964d4931250",
    "tags": [],
    "deepnote_to_be_reexecuted": false,
    "source_hash": "fe4346da",
    "execution_start": 1657232168308,
    "execution_millis": 121378,
    "deepnote_cell_type": "code",
    "deepnote_cell_height": 136.1875,
    "deepnote_output_heights": [
     21.1875
    ]
   },
   "source": "# How many PQRSDF are we going to be able to predict?\ndft.shape[0]",
   "execution_count": 11,
   "outputs": [
    {
     "output_type": "execute_result",
     "execution_count": 11,
     "data": {
      "text/plain": "766"
     },
     "metadata": {}
    }
   ]
  },
  {
   "cell_type": "code",
   "metadata": {
    "cell_id": "624339420222490f89519b98d403c505",
    "tags": [],
    "deepnote_to_be_reexecuted": false,
    "source_hash": "e52e8392",
    "execution_start": 1657232168321,
    "execution_millis": 572,
    "deepnote_cell_type": "code",
    "deepnote_cell_height": 668.96875,
    "deepnote_output_heights": [
     97.96875,
     335
    ]
   },
   "source": "# Distribution of PQRSDF, adding the predicted ones\npqr = df_cop.groupby(['TIPO DE PQRSDF']).size()\nplt.figure(figsize=(15, 5))\nsns.barplot(x=pqr.index, y=pqr.values)\nplt.title('PQRSDF BY TYPE')\nplt.xlabel('Type')\npqr",
   "execution_count": 12,
   "outputs": [
    {
     "output_type": "execute_result",
     "execution_count": 12,
     "data": {
      "text/plain": "TIPO DE PQRSDF\nP    1018\nQ     470\nS     604\ndtype: int64"
     },
     "metadata": {}
    },
    {
     "data": {
      "text/plain": "<Figure size 1080x360 with 1 Axes>",
      "image/png": "[encoded data removed]"
     },
     "metadata": {
      "needs_background": "light",
      "image/png": {
       "width": 883,
       "height": 333
      }
     },
     "output_type": "display_data"
    }
   ]
  },
  {
   "cell_type": "code",
   "metadata": {
    "cell_id": "1da56ed74e5b469bba567989ae4e93cf",
    "tags": [],
    "deepnote_to_be_reexecuted": false,
    "source_hash": "8c9535f2",
    "execution_start": 1657232168623,
    "execution_millis": 24752,
    "owner_user_id": "2103c5c9-0d28-43ba-9bca-350e3839c317",
    "deepnote_cell_type": "code",
    "deepnote_cell_height": 623
   },
   "source": "#Predictor tool\npqrs=[]\nnum=int(input('Ingrese cuantas PQRS quiere ingresar'))\nfor i in range(num):\n    inp=input('Ingrese su PQRS')\n    pqrs.append(inp)\n\npqrs = pd.DataFrame(pqrs, columns=['TEXTO PQRSDF'])\n\n#Transform text into vectors\ndata=bow_counts.transform(pqrs['TEXTO PQRSDF'])\n\n#Predicting the output\nprob= lr_cv.predict_proba(data) \npred = lr_cv.predict(data)\n\n#Assign the data to the missing\npqrs['TIPO DE PQRSDF'] = pred\n\npqrs",
   "execution_count": 13,
   "outputs": [
    {
     "output_type": "execute_result",
     "execution_count": 13,
     "data": {
      "application/vnd.deepnote.dataframe.v3+json": {
       "column_count": 2,
       "row_count": 1,
       "columns": [
        {
         "name": "TEXTO PQRSDF",
         "dtype": "object",
         "stats": {
          "unique_count": 1,
          "nan_count": 0,
          "categories": [
           {
            "name": "Manifiesto mi inconformidad porque no me han entregado mis medicamentos.",
            "count": 1
           }
          ]
         }
        },
        {
         "name": "TIPO DE PQRSDF",
         "dtype": "object",
         "stats": {
          "unique_count": 1,
          "nan_count": 0,
          "categories": [
           {
            "name": "Q",
            "count": 1
           }
          ]
         }
        },
        {
         "name": "_deepnote_index_column",
         "dtype": "int64"
        }
       ],
       "rows": [
        {
         "TEXTO PQRSDF": "Manifiesto mi inconformidad porque no me han entregado mis medicamentos.",
         "TIPO DE PQRSDF": "Q",
         "_deepnote_index_column": 0
        }
       ]
      },
      "text/plain": "                                        TEXTO PQRSDF TIPO DE PQRSDF\n0  Manifiesto mi inconformidad porque no me han e...              Q",
      "text/html": "<div>\n<style scoped>\n    .dataframe tbody tr th:only-of-type {\n        vertical-align: middle;\n    }\n\n    .dataframe tbody tr th {\n        vertical-align: top;\n    }\n\n    .dataframe thead th {\n        text-align: right;\n    }\n</style>\n<table border=\"1\" class=\"dataframe\">\n  <thead>\n    <tr style=\"text-align: right;\">\n      <th></th>\n      <th>TEXTO PQRSDF</th>\n      <th>TIPO DE PQRSDF</th>\n    </tr>\n  </thead>\n  <tbody>\n    <tr>\n      <th>0</th>\n      <td>Manifiesto mi inconformidad porque no me han e...</td>\n      <td>Q</td>\n    </tr>\n  </tbody>\n</table>\n</div>"
     },
     "metadata": {}
    }
   ]
  },
  {
   "cell_type": "markdown",
   "source": "<a style='text-decoration:none;line-height:16px;display:flex;color:#5B5B62;padding:10px;justify-content:end;' href='https://deepnote.com?utm_source=created-in-deepnote-cell&projectId=746f9757-a4f8-490f-a84c-875a1acb7471' target=\"_blank\">\n<img alt='Created in deepnote.com' style='display:inline;max-height:16px;margin:0px;margin-right:7.5px;' src='data:image/svg+xml;base64,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' > </img>\nCreated in <span style='font-weight:600;margin-left:4px;'>Deepnote</span></a>",
   "metadata": {
    "tags": [],
    "created_in_deepnote_cell": true,
    "deepnote_cell_type": "markdown"
   }
  }
 ],
 "nbformat": 4,
 "nbformat_minor": 2,
 "metadata": {
  "orig_nbformat": 2,
  "deepnote": {},
  "deepnote_notebook_id": "45421f75-6173-4b18-a105-8f424c06d060",
  "deepnote_execution_queue": []
 }
}